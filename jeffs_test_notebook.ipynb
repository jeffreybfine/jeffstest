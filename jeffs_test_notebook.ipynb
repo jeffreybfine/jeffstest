{
 "cells": [
  {
   "cell_type": "markdown",
   "id": "467a51cb-a74c-4d0a-a80e-8623407027c8",
   "metadata": {},
   "source": [
    "Jeff's Notebook"
   ]
  },
  {
   "cell_type": "markdown",
   "id": "6ff387e5-be87-4664-94eb-ba34d0517fcd",
   "metadata": {},
   "source": [
    "Intro for Jeff's Final Project"
   ]
  },
  {
   "cell_type": "markdown",
   "id": "3f5f9130-c8e7-4df6-bfde-e0a9019b3d72",
   "metadata": {},
   "source": [
    "Data Science Languages include R, Python, SQL, JAVA, Julia, SCALA, "
   ]
  },
  {
   "cell_type": "markdown",
   "id": "7ec52678-63b8-4008-bf2f-52151780b63f",
   "metadata": {},
   "source": [
    "Data Science Libraries include: TensorFlow, NumPy, SciPy, Pandas, PyTorch, ggplot2, Lattice,"
   ]
  },
  {
   "cell_type": "markdown",
   "id": "0f395da3-dc39-4632-8a40-831e6c4c21ac",
   "metadata": {},
   "source": [
    "Data Science Tools include: Watson Studio, R Studio, Excel, "
   ]
  },
  {
   "cell_type": "markdown",
   "id": "0689da1c-1cb2-42fa-87de-72d7b6a3f787",
   "metadata": {},
   "source": [
    "Some arithmatic expressions include + - / * ^"
   ]
  },
  {
   "cell_type": "code",
   "execution_count": 1,
   "id": "6169311d-8efc-4750-b171-af7ad5f3c782",
   "metadata": {},
   "outputs": [
    {
     "data": {
      "text/plain": [
       "50"
      ]
     },
     "execution_count": 1,
     "metadata": {},
     "output_type": "execute_result"
    }
   ],
   "source": [
    "6 * 8 + 2"
   ]
  },
  {
   "cell_type": "code",
   "execution_count": 2,
   "id": "b5245144-6efb-47f5-8419-450b5023d06e",
   "metadata": {},
   "outputs": [
    {
     "data": {
      "text/plain": [
       "2"
      ]
     },
     "execution_count": 2,
     "metadata": {},
     "output_type": "execute_result"
    }
   ],
   "source": [
    "# convert 100 minutes to hours.  \n",
    "round(100/60)"
   ]
  },
  {
   "cell_type": "markdown",
   "id": "d2aa3128-e5c7-4f57-b682-fcb89a2849a7",
   "metadata": {},
   "source": [
    "objective is to pass this course"
   ]
  },
  {
   "cell_type": "markdown",
   "id": "96a6a0d4-81aa-4527-8b49-22192bd46441",
   "metadata": {},
   "source": [
    "My name is Jeff"
   ]
  }
 ],
 "metadata": {
  "kernelspec": {
   "display_name": "Python 3 (ipykernel)",
   "language": "python",
   "name": "python3"
  },
  "language_info": {
   "codemirror_mode": {
    "name": "ipython",
    "version": 3
   },
   "file_extension": ".py",
   "mimetype": "text/x-python",
   "name": "python",
   "nbconvert_exporter": "python",
   "pygments_lexer": "ipython3",
   "version": "3.10.9"
  }
 },
 "nbformat": 4,
 "nbformat_minor": 5
}
